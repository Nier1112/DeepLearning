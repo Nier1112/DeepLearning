{
  "nbformat": 4,
  "nbformat_minor": 0,
  "metadata": {
    "colab": {
      "name": "DP_Cifar10_VGG19.ipynb",
      "provenance": [],
      "collapsed_sections": []
    },
    "kernelspec": {
      "name": "python3",
      "display_name": "Python 3"
    },
    "accelerator": "GPU"
  },
  "cells": [
    {
      "cell_type": "code",
      "metadata": {
        "id": "3mMZpLniKSzm",
        "colab_type": "code",
        "colab": {}
      },
      "source": [
        "%tensorflow_version 2.x"
      ],
      "execution_count": 1,
      "outputs": []
    },
    {
      "cell_type": "code",
      "metadata": {
        "id": "CscYjD0oKY4q",
        "colab_type": "code",
        "colab": {
          "base_uri": "https://localhost:8080/",
          "height": 136
        },
        "outputId": "138e3a7a-3002-4a9c-f8d3-b630b1e466ed"
      },
      "source": [
        "from tensorflow.keras.datasets.cifar10 import load_data\n",
        "(x_train, y_train), (x_test, y_test) = load_data()\n",
        "y_train"
      ],
      "execution_count": 2,
      "outputs": [
        {
          "output_type": "execute_result",
          "data": {
            "text/plain": [
              "array([[6],\n",
              "       [9],\n",
              "       [9],\n",
              "       ...,\n",
              "       [9],\n",
              "       [1],\n",
              "       [1]], dtype=uint8)"
            ]
          },
          "metadata": {
            "tags": []
          },
          "execution_count": 2
        }
      ]
    },
    {
      "cell_type": "code",
      "metadata": {
        "id": "Z4tnA0dxK11U",
        "colab_type": "code",
        "colab": {
          "base_uri": "https://localhost:8080/",
          "height": 85
        },
        "outputId": "9f670757-25fe-42b0-d855-3aa706255291"
      },
      "source": [
        "print(x_train.shape)\n",
        "print(y_train.shape)\n",
        "print(x_test.shape)\n",
        "print(y_test.shape)"
      ],
      "execution_count": 3,
      "outputs": [
        {
          "output_type": "stream",
          "text": [
            "(50000, 32, 32, 3)\n",
            "(50000, 1)\n",
            "(10000, 32, 32, 3)\n",
            "(10000, 1)\n"
          ],
          "name": "stdout"
        }
      ]
    },
    {
      "cell_type": "code",
      "metadata": {
        "id": "3--0nEzbKnqL",
        "colab_type": "code",
        "colab": {}
      },
      "source": [
        "classname = [\"airplain\", \"automobile\", \"bird\", \"cat\", \"deer\", \"dog\", \"frog\", \"horse\", \"ship\", \"truck\"]"
      ],
      "execution_count": 4,
      "outputs": []
    },
    {
      "cell_type": "code",
      "metadata": {
        "id": "YEY-x0dKK70K",
        "colab_type": "code",
        "colab": {
          "base_uri": "https://localhost:8080/",
          "height": 282
        },
        "outputId": "21ad8195-9911-4bb9-f9be-e6e047b5053e"
      },
      "source": [
        "import random\n",
        "import matplotlib.pyplot  as plt\n",
        "%matplotlib inline\n",
        "p = random.randint(0, 49999)\n",
        "n = int(y_train[p])\n",
        "plt.axis(\"off\")\n",
        "print(\"這個是第\",n, \"類\", \"為\", classname[n])\n",
        "plt.imshow(x_train[p])"
      ],
      "execution_count": 5,
      "outputs": [
        {
          "output_type": "stream",
          "text": [
            "這個是第 0 類 為 airplain\n"
          ],
          "name": "stdout"
        },
        {
          "output_type": "execute_result",
          "data": {
            "text/plain": [
              "<matplotlib.image.AxesImage at 0x7f4aacf19400>"
            ]
          },
          "metadata": {
            "tags": []
          },
          "execution_count": 5
        },
        {
          "output_type": "display_data",
          "data": {
            "image/png": "[encoded data removed]",
            "text/plain": [
              "<Figure size 432x288 with 1 Axes>"
            ]
          },
          "metadata": {
            "tags": [],
            "needs_background": "light"
          }
        }
      ]
    },
    {
      "cell_type": "code",
      "metadata": {
        "id": "cOCG7iAXLtal",
        "colab_type": "code",
        "colab": {
          "base_uri": "https://localhost:8080/",
          "height": 901
        },
        "outputId": "8822e43c-c25e-4df6-bfe0-58d2c9a169fb"
      },
      "source": [
        "from tensorflow.keras.applications import VGG19\n",
        "cnn = VGG19(include_top=False, weights=\"imagenet\", input_shape=(32, 32, 3))\n",
        "cnn.summary()"
      ],
      "execution_count": 6,
      "outputs": [
        {
          "output_type": "stream",
          "text": [
            "Model: \"vgg19\"\n",
            "_________________________________________________________________\n",
            "Layer (type)                 Output Shape              Param #   \n",
            "=================================================================\n",
            "input_1 (InputLayer)         [(None, 32, 32, 3)]       0         \n",
            "_________________________________________________________________\n",
            "block1_conv1 (Conv2D)        (None, 32, 32, 64)        1792      \n",
            "_________________________________________________________________\n",
            "block1_conv2 (Conv2D)        (None, 32, 32, 64)        36928     \n",
            "_________________________________________________________________\n",
            "block1_pool (MaxPooling2D)   (None, 16, 16, 64)        0         \n",
            "_________________________________________________________________\n",
            "block2_conv1 (Conv2D)        (None, 16, 16, 128)       73856     \n",
            "_________________________________________________________________\n",
            "block2_conv2 (Conv2D)        (None, 16, 16, 128)       147584    \n",
            "_________________________________________________________________\n",
            "block2_pool (MaxPooling2D)   (None, 8, 8, 128)         0         \n",
            "_________________________________________________________________\n",
            "block3_conv1 (Conv2D)        (None, 8, 8, 256)         295168    \n",
            "_________________________________________________________________\n",
            "block3_conv2 (Conv2D)        (None, 8, 8, 256)         590080    \n",
            "_________________________________________________________________\n",
            "block3_conv3 (Conv2D)        (None, 8, 8, 256)         590080    \n",
            "_________________________________________________________________\n",
            "block3_conv4 (Conv2D)        (None, 8, 8, 256)         590080    \n",
            "_________________________________________________________________\n",
            "block3_pool (MaxPooling2D)   (None, 4, 4, 256)         0         \n",
            "_________________________________________________________________\n",
            "block4_conv1 (Conv2D)        (None, 4, 4, 512)         1180160   \n",
            "_________________________________________________________________\n",
            "block4_conv2 (Conv2D)        (None, 4, 4, 512)         2359808   \n",
            "_________________________________________________________________\n",
            "block4_conv3 (Conv2D)        (None, 4, 4, 512)         2359808   \n",
            "_________________________________________________________________\n",
            "block4_conv4 (Conv2D)        (None, 4, 4, 512)         2359808   \n",
            "_________________________________________________________________\n",
            "block4_pool (MaxPooling2D)   (None, 2, 2, 512)         0         \n",
            "_________________________________________________________________\n",
            "block5_conv1 (Conv2D)        (None, 2, 2, 512)         2359808   \n",
            "_________________________________________________________________\n",
            "block5_conv2 (Conv2D)        (None, 2, 2, 512)         2359808   \n",
            "_________________________________________________________________\n",
            "block5_conv3 (Conv2D)        (None, 2, 2, 512)         2359808   \n",
            "_________________________________________________________________\n",
            "block5_conv4 (Conv2D)        (None, 2, 2, 512)         2359808   \n",
            "_________________________________________________________________\n",
            "block5_pool (MaxPooling2D)   (None, 1, 1, 512)         0         \n",
            "=================================================================\n",
            "Total params: 20,024,384\n",
            "Trainable params: 20,024,384\n",
            "Non-trainable params: 0\n",
            "_________________________________________________________________\n"
          ],
          "name": "stdout"
        }
      ]
    },
    {
      "cell_type": "code",
      "metadata": {
        "id": "kboCME6RObue",
        "colab_type": "code",
        "colab": {
          "base_uri": "https://localhost:8080/",
          "height": 1000
        },
        "outputId": "1a6dca20-7aea-47be-e6e4-3472212a2817"
      },
      "source": [
        "from tensorflow.keras.models import Model\n",
        "from tensorflow.keras.layers import Flatten, Dense, Dropout, BatchNormalization\n",
        "for i in cnn.layers:\n",
        "  i.trainable = False\n",
        "x = Flatten()(cnn.output)\n",
        "x = Dense(256, activation=\"relu\")(x)\n",
        "x = Dropout(0.2)(x)\n",
        "x = Dense(128, activation=\"relu\")(x)\n",
        "out = Dense(10, activation=\"softmax\")(x)\n",
        "model = Model(inputs=cnn.input, outputs=out)\n",
        "model.summary()"
      ],
      "execution_count": 7,
      "outputs": [
        {
          "output_type": "stream",
          "text": [
            "Model: \"model\"\n",
            "_________________________________________________________________\n",
            "Layer (type)                 Output Shape              Param #   \n",
            "=================================================================\n",
            "input_1 (InputLayer)         [(None, 32, 32, 3)]       0         \n",
            "_________________________________________________________________\n",
            "block1_conv1 (Conv2D)        (None, 32, 32, 64)        1792      \n",
            "_________________________________________________________________\n",
            "block1_conv2 (Conv2D)        (None, 32, 32, 64)        36928     \n",
            "_________________________________________________________________\n",
            "block1_pool (MaxPooling2D)   (None, 16, 16, 64)        0         \n",
            "_________________________________________________________________\n",
            "block2_conv1 (Conv2D)        (None, 16, 16, 128)       73856     \n",
            "_________________________________________________________________\n",
            "block2_conv2 (Conv2D)        (None, 16, 16, 128)       147584    \n",
            "_________________________________________________________________\n",
            "block2_pool (MaxPooling2D)   (None, 8, 8, 128)         0         \n",
            "_________________________________________________________________\n",
            "block3_conv1 (Conv2D)        (None, 8, 8, 256)         295168    \n",
            "_________________________________________________________________\n",
            "block3_conv2 (Conv2D)        (None, 8, 8, 256)         590080    \n",
            "_________________________________________________________________\n",
            "block3_conv3 (Conv2D)        (None, 8, 8, 256)         590080    \n",
            "_________________________________________________________________\n",
            "block3_conv4 (Conv2D)        (None, 8, 8, 256)         590080    \n",
            "_________________________________________________________________\n",
            "block3_pool (MaxPooling2D)   (None, 4, 4, 256)         0         \n",
            "_________________________________________________________________\n",
            "block4_conv1 (Conv2D)        (None, 4, 4, 512)         1180160   \n",
            "_________________________________________________________________\n",
            "block4_conv2 (Conv2D)        (None, 4, 4, 512)         2359808   \n",
            "_________________________________________________________________\n",
            "block4_conv3 (Conv2D)        (None, 4, 4, 512)         2359808   \n",
            "_________________________________________________________________\n",
            "block4_conv4 (Conv2D)        (None, 4, 4, 512)         2359808   \n",
            "_________________________________________________________________\n",
            "block4_pool (MaxPooling2D)   (None, 2, 2, 512)         0         \n",
            "_________________________________________________________________\n",
            "block5_conv1 (Conv2D)        (None, 2, 2, 512)         2359808   \n",
            "_________________________________________________________________\n",
            "block5_conv2 (Conv2D)        (None, 2, 2, 512)         2359808   \n",
            "_________________________________________________________________\n",
            "block5_conv3 (Conv2D)        (None, 2, 2, 512)         2359808   \n",
            "_________________________________________________________________\n",
            "block5_conv4 (Conv2D)        (None, 2, 2, 512)         2359808   \n",
            "_________________________________________________________________\n",
            "block5_pool (MaxPooling2D)   (None, 1, 1, 512)         0         \n",
            "_________________________________________________________________\n",
            "flatten (Flatten)            (None, 512)               0         \n",
            "_________________________________________________________________\n",
            "dense (Dense)                (None, 256)               131328    \n",
            "_________________________________________________________________\n",
            "dropout (Dropout)            (None, 256)               0         \n",
            "_________________________________________________________________\n",
            "dense_1 (Dense)              (None, 128)               32896     \n",
            "_________________________________________________________________\n",
            "dense_2 (Dense)              (None, 10)                1290      \n",
            "=================================================================\n",
            "Total params: 20,189,898\n",
            "Trainable params: 165,514\n",
            "Non-trainable params: 20,024,384\n",
            "_________________________________________________________________\n"
          ],
          "name": "stdout"
        }
      ]
    },
    {
      "cell_type": "code",
      "metadata": {
        "id": "7zaobgPYPmQM",
        "colab_type": "code",
        "colab": {}
      },
      "source": [
        "from tensorflow.keras.callbacks import EarlyStopping, ModelCheckpoint       \n",
        "callback = [ EarlyStopping(patience=3, restore_best_weights=True),\n",
        "            ModelCheckpoint(\"Cifar10_VGG19.h5\", save_best_only=True)]"
      ],
      "execution_count": 8,
      "outputs": []
    },
    {
      "cell_type": "code",
      "metadata": {
        "id": "A9uDt9DbQIyE",
        "colab_type": "code",
        "colab": {
          "base_uri": "https://localhost:8080/",
          "height": 1000
        },
        "outputId": "4cd511e8-3601-4393-cc55-a580076b7b50"
      },
      "source": [
        "from tensorflow.keras.losses import SparseCategoricalCrossentropy\n",
        "from tensorflow.keras.optimizers import Adam\n",
        "model.compile(loss=SparseCategoricalCrossentropy(),\n",
        "              optimizer=Adam(learning_rate=0.0001), \n",
        "              metrics=[\"accuracy\"])\n",
        "history = model.fit(x_train, y_train,\n",
        "          batch_size=300, epochs=100,\n",
        "          validation_split=0.1, callbacks=callback)"
      ],
      "execution_count": 9,
      "outputs": [
        {
          "output_type": "stream",
          "text": [
            "Epoch 1/100\n",
            "150/150 [==============================] - 18s 120ms/step - loss: 8.4716 - accuracy: 0.2301 - val_loss: 3.7003 - val_accuracy: 0.3508\n",
            "Epoch 2/100\n",
            "150/150 [==============================] - 17s 110ms/step - loss: 4.1570 - accuracy: 0.3202 - val_loss: 2.5572 - val_accuracy: 0.3708\n",
            "Epoch 3/100\n",
            "150/150 [==============================] - 16s 110ms/step - loss: 2.9440 - accuracy: 0.3397 - val_loss: 2.0629 - val_accuracy: 0.3702\n",
            "Epoch 4/100\n",
            "150/150 [==============================] - 16s 110ms/step - loss: 2.3806 - accuracy: 0.3504 - val_loss: 1.8478 - val_accuracy: 0.3746\n",
            "Epoch 5/100\n",
            "150/150 [==============================] - 16s 109ms/step - loss: 2.1004 - accuracy: 0.3617 - val_loss: 1.7693 - val_accuracy: 0.3794\n",
            "Epoch 6/100\n",
            "150/150 [==============================] - 16s 110ms/step - loss: 1.9514 - accuracy: 0.3757 - val_loss: 1.7105 - val_accuracy: 0.4044\n",
            "Epoch 7/100\n",
            "150/150 [==============================] - 16s 109ms/step - loss: 1.8532 - accuracy: 0.3938 - val_loss: 1.6539 - val_accuracy: 0.4276\n",
            "Epoch 8/100\n",
            "150/150 [==============================] - 16s 110ms/step - loss: 1.7782 - accuracy: 0.4128 - val_loss: 1.6058 - val_accuracy: 0.4424\n",
            "Epoch 9/100\n",
            "150/150 [==============================] - 16s 109ms/step - loss: 1.7066 - accuracy: 0.4328 - val_loss: 1.5663 - val_accuracy: 0.4596\n",
            "Epoch 10/100\n",
            "150/150 [==============================] - 16s 110ms/step - loss: 1.6557 - accuracy: 0.4421 - val_loss: 1.5273 - val_accuracy: 0.4726\n",
            "Epoch 11/100\n",
            "150/150 [==============================] - 16s 110ms/step - loss: 1.5919 - accuracy: 0.4600 - val_loss: 1.4906 - val_accuracy: 0.4844\n",
            "Epoch 12/100\n",
            "150/150 [==============================] - 16s 109ms/step - loss: 1.5563 - accuracy: 0.4719 - val_loss: 1.4598 - val_accuracy: 0.5006\n",
            "Epoch 13/100\n",
            "150/150 [==============================] - 16s 110ms/step - loss: 1.5112 - accuracy: 0.4856 - val_loss: 1.4324 - val_accuracy: 0.5062\n",
            "Epoch 14/100\n",
            "150/150 [==============================] - 17s 110ms/step - loss: 1.4746 - accuracy: 0.4956 - val_loss: 1.4051 - val_accuracy: 0.5210\n",
            "Epoch 15/100\n",
            "150/150 [==============================] - 16s 110ms/step - loss: 1.4416 - accuracy: 0.5053 - val_loss: 1.3887 - val_accuracy: 0.5252\n",
            "Epoch 16/100\n",
            "150/150 [==============================] - 16s 110ms/step - loss: 1.4071 - accuracy: 0.5172 - val_loss: 1.3691 - val_accuracy: 0.5330\n",
            "Epoch 17/100\n",
            "150/150 [==============================] - 16s 110ms/step - loss: 1.3784 - accuracy: 0.5222 - val_loss: 1.3529 - val_accuracy: 0.5400\n",
            "Epoch 18/100\n",
            "150/150 [==============================] - 16s 109ms/step - loss: 1.3562 - accuracy: 0.5306 - val_loss: 1.3378 - val_accuracy: 0.5466\n",
            "Epoch 19/100\n",
            "150/150 [==============================] - 16s 109ms/step - loss: 1.3250 - accuracy: 0.5398 - val_loss: 1.3188 - val_accuracy: 0.5518\n",
            "Epoch 20/100\n",
            "150/150 [==============================] - 16s 109ms/step - loss: 1.3083 - accuracy: 0.5490 - val_loss: 1.3077 - val_accuracy: 0.5626\n",
            "Epoch 21/100\n",
            "150/150 [==============================] - 16s 110ms/step - loss: 1.2775 - accuracy: 0.5547 - val_loss: 1.2950 - val_accuracy: 0.5656\n",
            "Epoch 22/100\n",
            "150/150 [==============================] - 16s 109ms/step - loss: 1.2591 - accuracy: 0.5606 - val_loss: 1.2837 - val_accuracy: 0.5668\n",
            "Epoch 23/100\n",
            "150/150 [==============================] - 16s 110ms/step - loss: 1.2456 - accuracy: 0.5654 - val_loss: 1.2720 - val_accuracy: 0.5696\n",
            "Epoch 24/100\n",
            "150/150 [==============================] - 16s 110ms/step - loss: 1.2286 - accuracy: 0.5733 - val_loss: 1.2653 - val_accuracy: 0.5728\n",
            "Epoch 25/100\n",
            "150/150 [==============================] - 16s 110ms/step - loss: 1.2041 - accuracy: 0.5802 - val_loss: 1.2558 - val_accuracy: 0.5742\n",
            "Epoch 26/100\n",
            "150/150 [==============================] - 16s 110ms/step - loss: 1.1867 - accuracy: 0.5845 - val_loss: 1.2483 - val_accuracy: 0.5742\n",
            "Epoch 27/100\n",
            "150/150 [==============================] - 16s 109ms/step - loss: 1.1721 - accuracy: 0.5891 - val_loss: 1.2410 - val_accuracy: 0.5752\n",
            "Epoch 28/100\n",
            "150/150 [==============================] - 16s 110ms/step - loss: 1.1564 - accuracy: 0.5952 - val_loss: 1.2350 - val_accuracy: 0.5792\n",
            "Epoch 29/100\n",
            "150/150 [==============================] - 16s 109ms/step - loss: 1.1392 - accuracy: 0.6024 - val_loss: 1.2305 - val_accuracy: 0.5822\n",
            "Epoch 30/100\n",
            "150/150 [==============================] - 16s 110ms/step - loss: 1.1295 - accuracy: 0.6052 - val_loss: 1.2255 - val_accuracy: 0.5834\n",
            "Epoch 31/100\n",
            "150/150 [==============================] - 16s 110ms/step - loss: 1.1131 - accuracy: 0.6107 - val_loss: 1.2193 - val_accuracy: 0.5868\n",
            "Epoch 32/100\n",
            "150/150 [==============================] - 16s 110ms/step - loss: 1.0965 - accuracy: 0.6156 - val_loss: 1.2160 - val_accuracy: 0.5878\n",
            "Epoch 33/100\n",
            "150/150 [==============================] - 16s 110ms/step - loss: 1.0816 - accuracy: 0.6190 - val_loss: 1.2082 - val_accuracy: 0.5892\n",
            "Epoch 34/100\n",
            "150/150 [==============================] - 16s 110ms/step - loss: 1.0736 - accuracy: 0.6226 - val_loss: 1.2052 - val_accuracy: 0.5932\n",
            "Epoch 35/100\n",
            "150/150 [==============================] - 16s 110ms/step - loss: 1.0546 - accuracy: 0.6297 - val_loss: 1.2014 - val_accuracy: 0.5908\n",
            "Epoch 36/100\n",
            "150/150 [==============================] - 16s 109ms/step - loss: 1.0491 - accuracy: 0.6317 - val_loss: 1.1991 - val_accuracy: 0.5966\n",
            "Epoch 37/100\n",
            "150/150 [==============================] - 16s 108ms/step - loss: 1.0313 - accuracy: 0.6393 - val_loss: 1.2012 - val_accuracy: 0.5944\n",
            "Epoch 38/100\n",
            "150/150 [==============================] - 16s 108ms/step - loss: 1.0213 - accuracy: 0.6408 - val_loss: 1.1996 - val_accuracy: 0.5934\n",
            "Epoch 39/100\n",
            "150/150 [==============================] - 16s 109ms/step - loss: 1.0086 - accuracy: 0.6448 - val_loss: 1.1935 - val_accuracy: 0.5972\n",
            "Epoch 40/100\n",
            "150/150 [==============================] - 16s 109ms/step - loss: 0.9933 - accuracy: 0.6521 - val_loss: 1.1921 - val_accuracy: 0.5958\n",
            "Epoch 41/100\n",
            "150/150 [==============================] - 16s 108ms/step - loss: 0.9898 - accuracy: 0.6487 - val_loss: 1.1940 - val_accuracy: 0.5936\n",
            "Epoch 42/100\n",
            "150/150 [==============================] - 16s 109ms/step - loss: 0.9738 - accuracy: 0.6553 - val_loss: 1.1889 - val_accuracy: 0.5986\n",
            "Epoch 43/100\n",
            "150/150 [==============================] - 16s 110ms/step - loss: 0.9698 - accuracy: 0.6582 - val_loss: 1.1858 - val_accuracy: 0.5996\n",
            "Epoch 44/100\n",
            "150/150 [==============================] - 16s 109ms/step - loss: 0.9547 - accuracy: 0.6636 - val_loss: 1.1840 - val_accuracy: 0.6018\n",
            "Epoch 45/100\n",
            "150/150 [==============================] - 16s 108ms/step - loss: 0.9432 - accuracy: 0.6644 - val_loss: 1.1848 - val_accuracy: 0.6020\n",
            "Epoch 46/100\n",
            "150/150 [==============================] - 16s 108ms/step - loss: 0.9344 - accuracy: 0.6715 - val_loss: 1.1854 - val_accuracy: 0.6038\n",
            "Epoch 47/100\n",
            "150/150 [==============================] - 16s 108ms/step - loss: 0.9187 - accuracy: 0.6779 - val_loss: 1.1851 - val_accuracy: 0.6052\n"
          ],
          "name": "stdout"
        }
      ]
    },
    {
      "cell_type": "code",
      "metadata": {
        "id": "I6_IpgGEw32i",
        "colab_type": "code",
        "colab": {
          "base_uri": "https://localhost:8080/",
          "height": 51
        },
        "outputId": "6a0b057a-cfe5-4503-e588-089087a56115"
      },
      "source": [
        "model.evaluate(x_test, y_test)"
      ],
      "execution_count": 10,
      "outputs": [
        {
          "output_type": "stream",
          "text": [
            "313/313 [==============================] - 7s 22ms/step - loss: 1.2055 - accuracy: 0.5912\n"
          ],
          "name": "stdout"
        },
        {
          "output_type": "execute_result",
          "data": {
            "text/plain": [
              "[1.2055302858352661, 0.5911999940872192]"
            ]
          },
          "metadata": {
            "tags": []
          },
          "execution_count": 10
        }
      ]
    },
    {
      "cell_type": "code",
      "metadata": {
        "id": "-R6wk_E0zoXa",
        "colab_type": "code",
        "colab": {
          "base_uri": "https://localhost:8080/",
          "height": 238
        },
        "outputId": "05d1f872-83ca-4ba3-e6c6-dca79ea17f66"
      },
      "source": [
        "model.predict(x_test)\n",
        "# 輸出10個機率給你, 可以了解是否有梯度爆炸問題\n",
        "# 要找到出最高的 index, 用 predict_classes 直接輸出分類"
      ],
      "execution_count": 11,
      "outputs": [
        {
          "output_type": "execute_result",
          "data": {
            "text/plain": [
              "array([[1.4208486e-04, 4.2076316e-04, 5.9210595e-02, ..., 1.9586550e-02,\n",
              "        1.3496459e-03, 3.9192440e-04],\n",
              "       [8.2679435e-07, 4.2050899e-05, 2.4117844e-08, ..., 1.0273216e-10,\n",
              "        9.9938202e-01, 5.7200593e-04],\n",
              "       [6.3498966e-02, 1.0869445e-01, 3.3759724e-03, ..., 1.8599083e-03,\n",
              "        6.4408255e-01, 1.4629194e-01],\n",
              "       ...,\n",
              "       [1.4272847e-04, 2.7195183e-03, 1.4447001e-02, ..., 2.2811338e-02,\n",
              "        5.8542780e-04, 1.1806613e-02],\n",
              "       [5.1532526e-02, 9.5925055e-02, 1.7924994e-01, ..., 4.5715898e-02,\n",
              "        1.5336584e-02, 3.6632970e-02],\n",
              "       [7.7013856e-06, 1.1350302e-05, 3.1263247e-05, ..., 9.9082839e-01,\n",
              "        1.3504015e-06, 4.3921950e-06]], dtype=float32)"
            ]
          },
          "metadata": {
            "tags": []
          },
          "execution_count": 11
        }
      ]
    },
    {
      "cell_type": "code",
      "metadata": {
        "id": "1gx7xr5IoE1V",
        "colab_type": "code",
        "colab": {
          "base_uri": "https://localhost:8080/",
          "height": 319
        },
        "outputId": "134e20b6-d368-479d-950f-d87c07102c7d"
      },
      "source": [
        "# 畫出 accuracy 圖\n",
        "plt.plot(history.history[\"accuracy\"])\n",
        "plt.plot(history.history[\"val_accuracy\"])\n",
        "plt.title(\"model accuracy\", fontsize=15)\n",
        "plt.xlabel(\"epochs\", fontsize=15)\n",
        "plt.ylabel(\"accuracy\", fontsize=15)\n",
        "plt.legend([\"train\", \"valid\"], loc=\"best\")"
      ],
      "execution_count": 12,
      "outputs": [
        {
          "output_type": "execute_result",
          "data": {
            "text/plain": [
              "<matplotlib.legend.Legend at 0x7f4a51648208>"
            ]
          },
          "metadata": {
            "tags": []
          },
          "execution_count": 12
        },
        {
          "output_type": "display_data",
          "data": {
            "image/png": "[encoded data removed]",
            "text/plain": [
              "<Figure size 432x288 with 1 Axes>"
            ]
          },
          "metadata": {
            "tags": [],
            "needs_background": "light"
          }
        }
      ]
    },
    {
      "cell_type": "code",
      "metadata": {
        "id": "J8Ehf9Sew92f",
        "colab_type": "code",
        "colab": {
          "base_uri": "https://localhost:8080/",
          "height": 319
        },
        "outputId": "6ee4a71c-5b66-4387-d57f-dce3ee442a7c"
      },
      "source": [
        "# 畫出 loss 圖\n",
        "plt.plot(history.history[\"loss\"])\n",
        "plt.plot(history.history[\"val_loss\"])\n",
        "plt.title(\"model loss\", fontsize=15)\n",
        "plt.xlabel(\"epochs\", fontsize=15)\n",
        "plt.ylabel(\"loss\", fontsize=15)\n",
        "plt.legend([\"train\", \"valid\"], loc=\"best\")"
      ],
      "execution_count": 13,
      "outputs": [
        {
          "output_type": "execute_result",
          "data": {
            "text/plain": [
              "<matplotlib.legend.Legend at 0x7f4a5167a5c0>"
            ]
          },
          "metadata": {
            "tags": []
          },
          "execution_count": 13
        },
        {
          "output_type": "display_data",
          "data": {
            "image/png": "[encoded data removed]",
            "text/plain": [
              "<Figure size 432x288 with 1 Axes>"
            ]
          },
          "metadata": {
            "tags": [],
            "needs_background": "light"
          }
        }
      ]
    },
    {
      "cell_type": "markdown",
      "metadata": {
        "id": "o1ptzHgEzMiF",
        "colab_type": "text"
      },
      "source": [
        "#### 訓練資料平滑上升, 但測試資料不如預期時 val_accuracy=0.55 \n",
        "+ dropout\n"
      ]
    }
  ]
}