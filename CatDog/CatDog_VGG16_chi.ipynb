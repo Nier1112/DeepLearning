{
  "nbformat": 4,
  "nbformat_minor": 0,
  "metadata": {
    "colab": {
      "name": "CatDog_VGG16_chi.ipynb",
      "provenance": [],
      "collapsed_sections": [],
      "toc_visible": true
    },
    "kernelspec": {
      "name": "python3",
      "display_name": "Python 3"
    },
    "accelerator": "GPU"
  },
  "cells": [
    {
      "cell_type": "code",
      "metadata": {
        "id": "wQY7d0SYVFXV",
        "colab_type": "code",
        "colab": {}
      },
      "source": [
        "%tensorflow_version 2.x"
      ],
      "execution_count": 28,
      "outputs": []
    },
    {
      "cell_type": "code",
      "metadata": {
        "id": "nSyxpWm1Wwh-",
        "colab_type": "code",
        "colab": {}
      },
      "source": [
        "import zipfile\n",
        "f = zipfile.ZipFile(\"./drive/My Drive/train.zip\")\n",
        "f.extractall(\"./datasets\")"
      ],
      "execution_count": 29,
      "outputs": []
    },
    {
      "cell_type": "code",
      "metadata": {
        "id": "2EXUTTvpXcfw",
        "colab_type": "code",
        "colab": {
          "base_uri": "https://localhost:8080/",
          "height": 51
        },
        "outputId": "292fa6fd-fedf-4c3e-b5de-6c43de4cb9f4"
      },
      "source": [
        "import glob\n",
        "catfn = glob.glob(\"datasets/*/cat.*\")\n",
        "dogfn = glob.glob(\"datasets/*/dog.*\")\n",
        "print(\"貓圖片共有:\", len(catfn), \"張\")\n",
        "print(\"狗圖片共有:\", len(dogfn), \"張\")\n",
        "catans = [0] * len(catfn)\n",
        "dogans = [1] * len(dogfn)"
      ],
      "execution_count": 30,
      "outputs": [
        {
          "output_type": "stream",
          "text": [
            "貓圖片共有: 12500 張\n",
            "狗圖片共有: 12500 張\n"
          ],
          "name": "stdout"
        }
      ]
    },
    {
      "cell_type": "code",
      "metadata": {
        "id": "QFV8evZ-cmjH",
        "colab_type": "code",
        "colab": {
          "base_uri": "https://localhost:8080/",
          "height": 419
        },
        "outputId": "22296db2-8bbf-4dd5-9be9-8a2e23fe9d41"
      },
      "source": [
        "import pandas as pd\n",
        "datas = {\n",
        "    \"path\":catfn + dogfn,\n",
        "    \"target\": catans + dogans    \n",
        "}\n",
        "df = pd.DataFrame(datas)\n",
        "df"
      ],
      "execution_count": 31,
      "outputs": [
        {
          "output_type": "execute_result",
          "data": {
            "text/html": [
              "<div>\n",
              "<style scoped>\n",
              "    .dataframe tbody tr th:only-of-type {\n",
              "        vertical-align: middle;\n",
              "    }\n",
              "\n",
              "    .dataframe tbody tr th {\n",
              "        vertical-align: top;\n",
              "    }\n",
              "\n",
              "    .dataframe thead th {\n",
              "        text-align: right;\n",
              "    }\n",
              "</style>\n",
              "<table border=\"1\" class=\"dataframe\">\n",
              "  <thead>\n",
              "    <tr style=\"text-align: right;\">\n",
              "      <th></th>\n",
              "      <th>path</th>\n",
              "      <th>target</th>\n",
              "    </tr>\n",
              "  </thead>\n",
              "  <tbody>\n",
              "    <tr>\n",
              "      <th>0</th>\n",
              "      <td>datasets/train/cat.3019.jpg</td>\n",
              "      <td>0</td>\n",
              "    </tr>\n",
              "    <tr>\n",
              "      <th>1</th>\n",
              "      <td>datasets/train/cat.1006.jpg</td>\n",
              "      <td>0</td>\n",
              "    </tr>\n",
              "    <tr>\n",
              "      <th>2</th>\n",
              "      <td>datasets/train/cat.8065.jpg</td>\n",
              "      <td>0</td>\n",
              "    </tr>\n",
              "    <tr>\n",
              "      <th>3</th>\n",
              "      <td>datasets/train/cat.4266.jpg</td>\n",
              "      <td>0</td>\n",
              "    </tr>\n",
              "    <tr>\n",
              "      <th>4</th>\n",
              "      <td>datasets/train/cat.5186.jpg</td>\n",
              "      <td>0</td>\n",
              "    </tr>\n",
              "    <tr>\n",
              "      <th>...</th>\n",
              "      <td>...</td>\n",
              "      <td>...</td>\n",
              "    </tr>\n",
              "    <tr>\n",
              "      <th>24995</th>\n",
              "      <td>datasets/train/dog.9963.jpg</td>\n",
              "      <td>1</td>\n",
              "    </tr>\n",
              "    <tr>\n",
              "      <th>24996</th>\n",
              "      <td>datasets/train/dog.7129.jpg</td>\n",
              "      <td>1</td>\n",
              "    </tr>\n",
              "    <tr>\n",
              "      <th>24997</th>\n",
              "      <td>datasets/train/dog.541.jpg</td>\n",
              "      <td>1</td>\n",
              "    </tr>\n",
              "    <tr>\n",
              "      <th>24998</th>\n",
              "      <td>datasets/train/dog.8467.jpg</td>\n",
              "      <td>1</td>\n",
              "    </tr>\n",
              "    <tr>\n",
              "      <th>24999</th>\n",
              "      <td>datasets/train/dog.656.jpg</td>\n",
              "      <td>1</td>\n",
              "    </tr>\n",
              "  </tbody>\n",
              "</table>\n",
              "<p>25000 rows × 2 columns</p>\n",
              "</div>"
            ],
            "text/plain": [
              "                              path  target\n",
              "0      datasets/train/cat.3019.jpg       0\n",
              "1      datasets/train/cat.1006.jpg       0\n",
              "2      datasets/train/cat.8065.jpg       0\n",
              "3      datasets/train/cat.4266.jpg       0\n",
              "4      datasets/train/cat.5186.jpg       0\n",
              "...                            ...     ...\n",
              "24995  datasets/train/dog.9963.jpg       1\n",
              "24996  datasets/train/dog.7129.jpg       1\n",
              "24997   datasets/train/dog.541.jpg       1\n",
              "24998  datasets/train/dog.8467.jpg       1\n",
              "24999   datasets/train/dog.656.jpg       1\n",
              "\n",
              "[25000 rows x 2 columns]"
            ]
          },
          "metadata": {
            "tags": []
          },
          "execution_count": 31
        }
      ]
    },
    {
      "cell_type": "markdown",
      "metadata": {
        "id": "4Q9CvxIefvQp",
        "colab_type": "text"
      },
      "source": [
        "#### load_img 在需要顯示圖片的時候才顯示, 減少計算量"
      ]
    },
    {
      "cell_type": "code",
      "metadata": {
        "id": "2mysHebte3_N",
        "colab_type": "code",
        "colab": {
          "base_uri": "https://localhost:8080/",
          "height": 392
        },
        "outputId": "9ededb9d-c14e-4958-de56-08315fdb240a"
      },
      "source": [
        "from tensorflow.keras.preprocessing.image import load_img\n",
        "import random\n",
        "import matplotlib.pyplot as plt\n",
        "%matplotlib inline\n",
        "p = random.randint(0, 24999)\n",
        "image = load_img(df[\"path\"][p])\n",
        "image"
      ],
      "execution_count": 32,
      "outputs": [
        {
          "output_type": "execute_result",
          "data": {
            "image/png": "[encoded data removed]",
            "text/plain": [
              "<PIL.JpegImagePlugin.JpegImageFile image mode=RGB size=499x375 at 0x7F797CCFF3C8>"
            ]
          },
          "metadata": {
            "tags": []
          },
          "execution_count": 32
        }
      ]
    },
    {
      "cell_type": "code",
      "metadata": {
        "id": "noqq275aftgN",
        "colab_type": "code",
        "colab": {
          "base_uri": "https://localhost:8080/",
          "height": 799
        },
        "outputId": "00cfe0b2-518a-4482-dcb2-7b2b3fe7da21"
      },
      "source": [
        "# 拿 VGG16 \n",
        "from tensorflow.keras.applications import  VGG16\n",
        "cnn = VGG16(include_top=False, weights=\"imagenet\", input_shape=(224, 224, 3))\n",
        "cnn.summary()"
      ],
      "execution_count": 33,
      "outputs": [
        {
          "output_type": "stream",
          "text": [
            "Model: \"vgg16\"\n",
            "_________________________________________________________________\n",
            "Layer (type)                 Output Shape              Param #   \n",
            "=================================================================\n",
            "input_2 (InputLayer)         [(None, 224, 224, 3)]     0         \n",
            "_________________________________________________________________\n",
            "block1_conv1 (Conv2D)        (None, 224, 224, 64)      1792      \n",
            "_________________________________________________________________\n",
            "block1_conv2 (Conv2D)        (None, 224, 224, 64)      36928     \n",
            "_________________________________________________________________\n",
            "block1_pool (MaxPooling2D)   (None, 112, 112, 64)      0         \n",
            "_________________________________________________________________\n",
            "block2_conv1 (Conv2D)        (None, 112, 112, 128)     73856     \n",
            "_________________________________________________________________\n",
            "block2_conv2 (Conv2D)        (None, 112, 112, 128)     147584    \n",
            "_________________________________________________________________\n",
            "block2_pool (MaxPooling2D)   (None, 56, 56, 128)       0         \n",
            "_________________________________________________________________\n",
            "block3_conv1 (Conv2D)        (None, 56, 56, 256)       295168    \n",
            "_________________________________________________________________\n",
            "block3_conv2 (Conv2D)        (None, 56, 56, 256)       590080    \n",
            "_________________________________________________________________\n",
            "block3_conv3 (Conv2D)        (None, 56, 56, 256)       590080    \n",
            "_________________________________________________________________\n",
            "block3_pool (MaxPooling2D)   (None, 28, 28, 256)       0         \n",
            "_________________________________________________________________\n",
            "block4_conv1 (Conv2D)        (None, 28, 28, 512)       1180160   \n",
            "_________________________________________________________________\n",
            "block4_conv2 (Conv2D)        (None, 28, 28, 512)       2359808   \n",
            "_________________________________________________________________\n",
            "block4_conv3 (Conv2D)        (None, 28, 28, 512)       2359808   \n",
            "_________________________________________________________________\n",
            "block4_pool (MaxPooling2D)   (None, 14, 14, 512)       0         \n",
            "_________________________________________________________________\n",
            "block5_conv1 (Conv2D)        (None, 14, 14, 512)       2359808   \n",
            "_________________________________________________________________\n",
            "block5_conv2 (Conv2D)        (None, 14, 14, 512)       2359808   \n",
            "_________________________________________________________________\n",
            "block5_conv3 (Conv2D)        (None, 14, 14, 512)       2359808   \n",
            "_________________________________________________________________\n",
            "block5_pool (MaxPooling2D)   (None, 7, 7, 512)         0         \n",
            "=================================================================\n",
            "Total params: 14,714,688\n",
            "Trainable params: 14,714,688\n",
            "Non-trainable params: 0\n",
            "_________________________________________________________________\n"
          ],
          "name": "stdout"
        }
      ]
    },
    {
      "cell_type": "code",
      "metadata": {
        "id": "BPkxAlsvh1xw",
        "colab_type": "code",
        "colab": {
          "base_uri": "https://localhost:8080/",
          "height": 969
        },
        "outputId": "21912645-ecec-410b-fabf-511d0991d451"
      },
      "source": [
        "from tensorflow.keras.models import Model\n",
        "from tensorflow.keras.layers import Flatten, Dense, Dropout, BatchNormalization\n",
        "for i in cnn.layers:\n",
        "  i.trainable = False\n",
        "x = BatchNormalization()(cnn.output)\n",
        "x = Flatten()(x)\n",
        "x = Dense(64, activation=\"relu\")(x)\n",
        "x = Dropout(0.25)(x)\n",
        "out = Dense(2, activation=\"softmax\")(x)\n",
        "model = Model(inputs=cnn.input, outputs=out)\n",
        "model.summary()"
      ],
      "execution_count": 34,
      "outputs": [
        {
          "output_type": "stream",
          "text": [
            "Model: \"model_1\"\n",
            "_________________________________________________________________\n",
            "Layer (type)                 Output Shape              Param #   \n",
            "=================================================================\n",
            "input_2 (InputLayer)         [(None, 224, 224, 3)]     0         \n",
            "_________________________________________________________________\n",
            "block1_conv1 (Conv2D)        (None, 224, 224, 64)      1792      \n",
            "_________________________________________________________________\n",
            "block1_conv2 (Conv2D)        (None, 224, 224, 64)      36928     \n",
            "_________________________________________________________________\n",
            "block1_pool (MaxPooling2D)   (None, 112, 112, 64)      0         \n",
            "_________________________________________________________________\n",
            "block2_conv1 (Conv2D)        (None, 112, 112, 128)     73856     \n",
            "_________________________________________________________________\n",
            "block2_conv2 (Conv2D)        (None, 112, 112, 128)     147584    \n",
            "_________________________________________________________________\n",
            "block2_pool (MaxPooling2D)   (None, 56, 56, 128)       0         \n",
            "_________________________________________________________________\n",
            "block3_conv1 (Conv2D)        (None, 56, 56, 256)       295168    \n",
            "_________________________________________________________________\n",
            "block3_conv2 (Conv2D)        (None, 56, 56, 256)       590080    \n",
            "_________________________________________________________________\n",
            "block3_conv3 (Conv2D)        (None, 56, 56, 256)       590080    \n",
            "_________________________________________________________________\n",
            "block3_pool (MaxPooling2D)   (None, 28, 28, 256)       0         \n",
            "_________________________________________________________________\n",
            "block4_conv1 (Conv2D)        (None, 28, 28, 512)       1180160   \n",
            "_________________________________________________________________\n",
            "block4_conv2 (Conv2D)        (None, 28, 28, 512)       2359808   \n",
            "_________________________________________________________________\n",
            "block4_conv3 (Conv2D)        (None, 28, 28, 512)       2359808   \n",
            "_________________________________________________________________\n",
            "block4_pool (MaxPooling2D)   (None, 14, 14, 512)       0         \n",
            "_________________________________________________________________\n",
            "block5_conv1 (Conv2D)        (None, 14, 14, 512)       2359808   \n",
            "_________________________________________________________________\n",
            "block5_conv2 (Conv2D)        (None, 14, 14, 512)       2359808   \n",
            "_________________________________________________________________\n",
            "block5_conv3 (Conv2D)        (None, 14, 14, 512)       2359808   \n",
            "_________________________________________________________________\n",
            "block5_pool (MaxPooling2D)   (None, 7, 7, 512)         0         \n",
            "_________________________________________________________________\n",
            "batch_normalization_1 (Batch (None, 7, 7, 512)         2048      \n",
            "_________________________________________________________________\n",
            "flatten_1 (Flatten)          (None, 25088)             0         \n",
            "_________________________________________________________________\n",
            "dense_2 (Dense)              (None, 64)                1605696   \n",
            "_________________________________________________________________\n",
            "dropout_1 (Dropout)          (None, 64)                0         \n",
            "_________________________________________________________________\n",
            "dense_3 (Dense)              (None, 2)                 130       \n",
            "=================================================================\n",
            "Total params: 16,322,562\n",
            "Trainable params: 1,606,850\n",
            "Non-trainable params: 14,715,712\n",
            "_________________________________________________________________\n"
          ],
          "name": "stdout"
        }
      ]
    },
    {
      "cell_type": "code",
      "metadata": {
        "id": "L83tlsbEjPo-",
        "colab_type": "code",
        "colab": {}
      },
      "source": [
        "from tensorflow.keras.losses import SparseCategoricalCrossentropy\n",
        "model.compile(loss=SparseCategoricalCrossentropy(),\n",
        "              optimizer=\"adam\",\n",
        "              metrics=[\"accuracy\"])"
      ],
      "execution_count": 35,
      "outputs": []
    },
    {
      "cell_type": "code",
      "metadata": {
        "id": "UbdFuhrujv8F",
        "colab_type": "code",
        "colab": {}
      },
      "source": [
        "# 訓練之前把所有 list, series  轉成 np.array\n",
        "from sklearn.model_selection import train_test_split\n",
        "import numpy as np\n",
        "x_train, x_test, y_train, y_test = train_test_split(np.array(df[\"path\"]),\n",
        "                                                    np.array(df[\"target\"]),\n",
        "                                                    test_size=0.1)"
      ],
      "execution_count": 36,
      "outputs": []
    },
    {
      "cell_type": "code",
      "metadata": {
        "id": "SZTyjLFj21vP",
        "colab_type": "code",
        "colab": {
          "base_uri": "https://localhost:8080/",
          "height": 68
        },
        "outputId": "55508a71-6316-4775-8674-396994d3d067"
      },
      "source": [
        "# np.random.randint 可以隨機拿出多數張圖\n",
        "x, y = x_train, y_train\n",
        "idx = np.random.randint(0, x.shape[0], size=20)\n",
        "idx"
      ],
      "execution_count": 37,
      "outputs": [
        {
          "output_type": "execute_result",
          "data": {
            "text/plain": [
              "array([ 9464, 21229, 16827, 19281,  7761,  9683, 18580, 12922, 14592,\n",
              "       10175, 21376,  5351, 19112,  7164, 10503,  5549, 22423,  2209,\n",
              "        7109,  8014])"
            ]
          },
          "metadata": {
            "tags": []
          },
          "execution_count": 37
        }
      ]
    },
    {
      "cell_type": "code",
      "metadata": {
        "id": "Uhoar-M-3ivA",
        "colab_type": "code",
        "colab": {
          "base_uri": "https://localhost:8080/",
          "height": 34
        },
        "outputId": "d8c605ee-b3bf-40a2-af65-9d9167332395"
      },
      "source": [
        "# x_batch 為隨機一批 x的圖,\n",
        "x_batch, y_batch = x[idx], y[idx]\n",
        "y_batch # 約 20 張圖片的答案"
      ],
      "execution_count": 38,
      "outputs": [
        {
          "output_type": "execute_result",
          "data": {
            "text/plain": [
              "array([0, 0, 1, 0, 0, 0, 1, 0, 1, 0, 0, 0, 0, 1, 0, 1, 0, 1, 1, 1])"
            ]
          },
          "metadata": {
            "tags": []
          },
          "execution_count": 38
        }
      ]
    },
    {
      "cell_type": "code",
      "metadata": {
        "id": "594FDsPZtTV6",
        "colab_type": "code",
        "colab": {}
      },
      "source": [
        "# 用 keras 裡面給的預處理來處理圖片, 每一個模型都有自己的處理方式內建於 keras 內\n",
        "from tensorflow.keras.applications.vgg16 import preprocess_input\n",
        "# dataflow 回傳 (原圖batch, 處理後batch, 答案batch)\n",
        "def dataflow(x, y, batch=20):\n",
        "  idx = np.random.randint(0, x.shape[0], size=20)\n",
        "  x_batch, y_batch = x[idx], y[idx]\n",
        "  x_ori, x_pre = [], [] # 有些原圖還需要用, 先儲存\n",
        "  for fp in x_batch:\n",
        "    img = load_img(fp, target_size=(224, 224))\n",
        "    img_np = np.array(img)\n",
        "    x_ori.append(img_np) # 原本圖片儲存一份\n",
        "    img_pre = preprocess_input(img_np)\n",
        "    x_pre.append(img_pre)\n",
        "  x_ori, x_pre = np.array(x_ori), np.array(x_pre)\n",
        "  return (x_ori, x_pre, y_batch)\n",
        "#print(\"原圖的情況:\", x_ori.shape) # 20 張圖, 224, 224, 3\n",
        "#print(\"預處理後的圖情況:\", x_pre.shape)"
      ],
      "execution_count": 39,
      "outputs": []
    },
    {
      "cell_type": "markdown",
      "metadata": {
        "id": "EwwTyrXK-teN",
        "colab_type": "text"
      },
      "source": [
        "#### 圖檔太大時使用批次訓練, 用 train_on_batch, 返回 [\"loss\", \"accuracy\"]\n",
        "#### test_on_batch, 返回 [\"val_loss\", \"val_accuracy\"]\n",
        "#### 參考: https://keras.io/zh/models/model/"
      ]
    },
    {
      "cell_type": "code",
      "metadata": {
        "id": "CY_8TVcw79ko",
        "colab_type": "code",
        "colab": {
          "base_uri": "https://localhost:8080/",
          "height": 1000
        },
        "outputId": "bad8dd46-ccd7-4e00-953b-ad7cad5a3a4b"
      },
      "source": [
        "# 開始訓練, 原圖沒用到不取名字用 _ 代替\n",
        "for i in range(50):\n",
        "  print(\"-\"*10 + \"目前訓練次數為:\", i, \"-\" *10)\n",
        "  _, x, y =  dataflow(x_train, y_train, batch=40)\n",
        "  result = model.train_on_batch(x, y)\n",
        "  print([\"train\"], result)\n",
        "  # 驗證模型\n",
        "  _, x , y = dataflow(x_test, y_test)\n",
        "  result = model.test_on_batch(x, y)\n",
        "  print([\"validate\"], result)"
      ],
      "execution_count": 40,
      "outputs": [
        {
          "output_type": "stream",
          "text": [
            "----------目前訓練次數為: 0 ----------\n",
            "['train'] [1.6769065856933594, 0.3499999940395355]\n",
            "['validate'] [9.078989028930664, 0.6000000238418579]\n",
            "----------目前訓練次數為: 1 ----------\n",
            "['train'] [0.8107908964157104, 0.6499999761581421]\n",
            "['validate'] [4.933660507202148, 0.75]\n",
            "----------目前訓練次數為: 2 ----------\n",
            "['train'] [0.22829480469226837, 0.8999999761581421]\n",
            "['validate'] [0.0029309592209756374, 1.0]\n",
            "----------目前訓練次數為: 3 ----------\n",
            "['train'] [0.22319626808166504, 0.8999999761581421]\n",
            "['validate'] [1.945553183555603, 0.8500000238418579]\n",
            "----------目前訓練次數為: 4 ----------\n",
            "['train'] [0.37343835830688477, 0.8500000238418579]\n",
            "['validate'] [8.641931533813477, 0.8500000238418579]\n",
            "----------目前訓練次數為: 5 ----------\n",
            "['train'] [0.27201685309410095, 0.949999988079071]\n",
            "['validate'] [4.880850791931152, 0.6499999761581421]\n",
            "----------目前訓練次數為: 6 ----------\n",
            "['train'] [0.07743775099515915, 0.949999988079071]\n",
            "['validate'] [5.55246639251709, 0.8500000238418579]\n",
            "----------目前訓練次數為: 7 ----------\n",
            "['train'] [0.34101584553718567, 0.949999988079071]\n",
            "['validate'] [0.0, 1.0]\n",
            "----------目前訓練次數為: 8 ----------\n",
            "['train'] [0.7122287750244141, 0.8999999761581421]\n",
            "['validate'] [2.6696510314941406, 0.8999999761581421]\n",
            "----------目前訓練次數為: 9 ----------\n",
            "['train'] [0.23009228706359863, 0.949999988079071]\n",
            "['validate'] [1.0302928686141968, 0.8999999761581421]\n",
            "----------目前訓練次數為: 10 ----------\n",
            "['train'] [0.03057795763015747, 1.0]\n",
            "['validate'] [0.0, 1.0]\n",
            "----------目前訓練次數為: 11 ----------\n",
            "['train'] [0.4638340473175049, 0.949999988079071]\n",
            "['validate'] [0.3792493939399719, 0.949999988079071]\n",
            "----------目前訓練次數為: 12 ----------\n",
            "['train'] [0.07219426333904266, 0.949999988079071]\n",
            "['validate'] [1.248384952545166, 0.949999988079071]\n",
            "----------目前訓練次數為: 13 ----------\n",
            "['train'] [0.24753344058990479, 0.949999988079071]\n",
            "['validate'] [5.610039234161377, 0.800000011920929]\n",
            "----------目前訓練次數為: 14 ----------\n",
            "['train'] [0.7308765053749084, 0.8500000238418579]\n",
            "['validate'] [1.8794715404510498, 0.949999988079071]\n",
            "----------目前訓練次數為: 15 ----------\n",
            "['train'] [0.054045118391513824, 0.949999988079071]\n",
            "['validate'] [0.8076227307319641, 0.949999988079071]\n",
            "----------目前訓練次數為: 16 ----------\n",
            "['train'] [0.40515270829200745, 0.8500000238418579]\n",
            "['validate'] [3.859759569168091, 0.8500000238418579]\n",
            "----------目前訓練次數為: 17 ----------\n",
            "['train'] [0.373020201921463, 0.8500000238418579]\n",
            "['validate'] [1.5812822580337524, 0.800000011920929]\n",
            "----------目前訓練次數為: 18 ----------\n",
            "['train'] [0.02892422117292881, 1.0]\n",
            "['validate'] [0.0, 1.0]\n",
            "----------目前訓練次數為: 19 ----------\n",
            "['train'] [0.7091465592384338, 0.8999999761581421]\n",
            "['validate'] [3.1182942390441895, 0.8500000238418579]\n",
            "----------目前訓練次數為: 20 ----------\n",
            "['train'] [0.764048159122467, 0.8500000238418579]\n",
            "['validate'] [0.00437537394464016, 1.0]\n",
            "----------目前訓練次數為: 21 ----------\n",
            "['train'] [0.2582629323005676, 0.8999999761581421]\n",
            "['validate'] [2.8628346920013428, 0.8999999761581421]\n",
            "----------目前訓練次數為: 22 ----------\n",
            "['train'] [0.5735003352165222, 0.8999999761581421]\n",
            "['validate'] [4.6702446937561035, 0.8500000238418579]\n",
            "----------目前訓練次數為: 23 ----------\n",
            "['train'] [0.6133981347084045, 0.800000011920929]\n",
            "['validate'] [8.437662472715601e-05, 1.0]\n",
            "----------目前訓練次數為: 24 ----------\n",
            "['train'] [0.5619732141494751, 0.8999999761581421]\n",
            "['validate'] [4.4515862464904785, 0.800000011920929]\n",
            "----------目前訓練次數為: 25 ----------\n",
            "['train'] [0.15848883986473083, 0.949999988079071]\n",
            "['validate'] [2.4954726696014404, 0.949999988079071]\n",
            "----------目前訓練次數為: 26 ----------\n",
            "['train'] [0.00021372156334109604, 1.0]\n",
            "['validate'] [4.6491464900100254e-07, 1.0]\n",
            "----------目前訓練次數為: 27 ----------\n",
            "['train'] [0.02544800564646721, 1.0]\n",
            "['validate'] [0.2497030794620514, 0.949999988079071]\n",
            "----------目前訓練次數為: 28 ----------\n",
            "['train'] [0.505183756351471, 0.8999999761581421]\n",
            "['validate'] [3.21891450881958, 0.8999999761581421]\n",
            "----------目前訓練次數為: 29 ----------\n",
            "['train'] [0.5149211883544922, 0.949999988079071]\n",
            "['validate'] [8.346639633178711, 0.8500000238418579]\n",
            "----------目前訓練次數為: 30 ----------\n",
            "['train'] [0.08909273892641068, 0.949999988079071]\n",
            "['validate'] [6.811059474945068, 0.949999988079071]\n",
            "----------目前訓練次數為: 31 ----------\n",
            "['train'] [0.002538310829550028, 1.0]\n",
            "['validate'] [2.1047682762145996, 0.8999999761581421]\n",
            "----------目前訓練次數為: 32 ----------\n",
            "['train'] [0.0171506367623806, 1.0]\n",
            "['validate'] [9.355712890625, 0.8999999761581421]\n",
            "----------目前訓練次數為: 33 ----------\n",
            "['train'] [0.009621048346161842, 1.0]\n",
            "['validate'] [0.00010926986578851938, 1.0]\n",
            "----------目前訓練次數為: 34 ----------\n",
            "['train'] [0.5213524103164673, 0.949999988079071]\n",
            "['validate'] [0.9151935577392578, 0.949999988079071]\n",
            "----------目前訓練次數為: 35 ----------\n",
            "['train'] [0.24392077326774597, 0.949999988079071]\n",
            "['validate'] [2.099780559539795, 0.8500000238418579]\n",
            "----------目前訓練次數為: 36 ----------\n",
            "['train'] [0.041143741458654404, 1.0]\n",
            "['validate'] [2.4128432273864746, 0.8500000238418579]\n",
            "----------目前訓練次數為: 37 ----------\n",
            "['train'] [0.0211265180259943, 1.0]\n",
            "['validate'] [1.3096411228179932, 0.8500000238418579]\n",
            "----------目前訓練次數為: 38 ----------\n",
            "['train'] [0.007279067300260067, 1.0]\n",
            "['validate'] [6.401741120498627e-05, 1.0]\n",
            "----------目前訓練次數為: 39 ----------\n",
            "['train'] [0.2372249811887741, 0.8999999761581421]\n",
            "['validate'] [3.4956393241882324, 0.8999999761581421]\n",
            "----------目前訓練次數為: 40 ----------\n",
            "['train'] [0.3706439733505249, 0.8500000238418579]\n",
            "['validate'] [2.4310498237609863, 0.949999988079071]\n",
            "----------目前訓練次數為: 41 ----------\n",
            "['train'] [0.16723550856113434, 0.949999988079071]\n",
            "['validate'] [0.24782522022724152, 0.8999999761581421]\n",
            "----------目前訓練次數為: 42 ----------\n",
            "['train'] [0.14370863139629364, 0.949999988079071]\n",
            "['validate'] [0.13117021322250366, 0.949999988079071]\n",
            "----------目前訓練次數為: 43 ----------\n",
            "['train'] [0.23496194183826447, 0.949999988079071]\n",
            "['validate'] [2.385505199432373, 0.8999999761581421]\n",
            "----------目前訓練次數為: 44 ----------\n",
            "['train'] [0.0345437191426754, 1.0]\n",
            "['validate'] [0.0, 1.0]\n",
            "----------目前訓練次數為: 45 ----------\n",
            "['train'] [0.10946603864431381, 0.949999988079071]\n",
            "['validate'] [2.3225760459899902, 0.949999988079071]\n",
            "----------目前訓練次數為: 46 ----------\n",
            "['train'] [0.9601591229438782, 0.8999999761581421]\n",
            "['validate'] [0.1031377762556076, 0.949999988079071]\n",
            "----------目前訓練次數為: 47 ----------\n",
            "['train'] [0.222492054104805, 0.949999988079071]\n",
            "['validate'] [0.13675621151924133, 0.949999988079071]\n",
            "----------目前訓練次數為: 48 ----------\n",
            "['train'] [0.27860546112060547, 0.8999999761581421]\n",
            "['validate'] [7.569733497803099e-07, 1.0]\n",
            "----------目前訓練次數為: 49 ----------\n",
            "['train'] [0.05084853246808052, 1.0]\n",
            "['validate'] [0.012019670568406582, 1.0]\n"
          ],
          "name": "stdout"
        }
      ]
    },
    {
      "cell_type": "code",
      "metadata": {
        "id": "017d7mnAAPQe",
        "colab_type": "code",
        "colab": {
          "base_uri": "https://localhost:8080/",
          "height": 357
        },
        "outputId": "e55f42f0-5592-4765-ceb0-747b189cc5a6"
      },
      "source": [
        "# 預測\n",
        "model.predict(x)"
      ],
      "execution_count": 41,
      "outputs": [
        {
          "output_type": "execute_result",
          "data": {
            "text/plain": [
              "array([[1.0000000e+00, 6.0319452e-15],\n",
              "       [3.4689288e-17, 1.0000000e+00],\n",
              "       [1.0000000e+00, 4.7488504e-24],\n",
              "       [0.0000000e+00, 1.0000000e+00],\n",
              "       [1.0000000e+00, 2.7522846e-24],\n",
              "       [0.0000000e+00, 1.0000000e+00],\n",
              "       [1.0000000e+00, 4.5265963e-25],\n",
              "       [0.0000000e+00, 1.0000000e+00],\n",
              "       [1.0000000e+00, 4.0895689e-30],\n",
              "       [7.8809994e-01, 2.1190004e-01],\n",
              "       [1.0000000e+00, 4.4617775e-17],\n",
              "       [1.0000000e+00, 1.1880791e-20],\n",
              "       [1.0000000e+00, 3.8714376e-08],\n",
              "       [1.0000000e+00, 7.3061365e-18],\n",
              "       [0.0000000e+00, 1.0000000e+00],\n",
              "       [9.9773955e-01, 2.2604000e-03],\n",
              "       [1.0000000e+00, 7.1522146e-12],\n",
              "       [2.5045093e-11, 1.0000000e+00],\n",
              "       [6.6685891e-21, 1.0000000e+00],\n",
              "       [1.0000000e+00, 3.5406693e-24]], dtype=float32)"
            ]
          },
          "metadata": {
            "tags": []
          },
          "execution_count": 41
        }
      ]
    },
    {
      "cell_type": "code",
      "metadata": {
        "id": "nIh_cj-GAnNC",
        "colab_type": "code",
        "colab": {
          "base_uri": "https://localhost:8080/",
          "height": 51
        },
        "outputId": "6bae0017-d7fa-4815-d976-28d569a51b5e"
      },
      "source": [
        "timg, tx, ty = dataflow(x_test, y_test, 500)\n",
        "model.evaluate(tx, ty)"
      ],
      "execution_count": 42,
      "outputs": [
        {
          "output_type": "stream",
          "text": [
            "1/1 [==============================] - 0s 1ms/step - loss: 1.1921e-08 - accuracy: 1.0000\n"
          ],
          "name": "stdout"
        },
        {
          "output_type": "execute_result",
          "data": {
            "text/plain": [
              "[1.192092735635697e-08, 1.0]"
            ]
          },
          "metadata": {
            "tags": []
          },
          "execution_count": 42
        }
      ]
    },
    {
      "cell_type": "code",
      "metadata": {
        "id": "py63L6BwBLSz",
        "colab_type": "code",
        "colab": {}
      },
      "source": [
        "# model 沒有 predict_calsses, 後續會移除, 用 predict + argmin = predict_classes\n",
        "# argmax 找到最值得 index, 參數  axis = 1 指每一個列找出最大值\n",
        "pre = model.predict(tx).argmax(axis=1)"
      ],
      "execution_count": 43,
      "outputs": []
    },
    {
      "cell_type": "code",
      "metadata": {
        "id": "tbZeL6LLKGGV",
        "colab_type": "code",
        "colab": {
          "base_uri": "https://localhost:8080/",
          "height": 34
        },
        "outputId": "dc20ac18-217d-4711-adc8-23a6c4134046"
      },
      "source": [
        "# 畫圖\n",
        "trans = [\"Cat\", \"Dog\"]\n",
        "idx = np.nonzero(pre != ty)[0]\n",
        "# 預測錯誤的圖\n",
        "false_img = timg[idx]\n",
        "false_answer = ty[idx]\n",
        "false_predict = pre[idx]\n",
        "\n",
        "# 把圖變大一點才塞的下\n",
        "plt.figure(figsize=(20, 10))\n",
        "width = 10\n",
        "height = len(false_img) // width + 1\n",
        "for i, img in enumerate(false_img):\n",
        "    plt.subplot(height, width, i+1)\n",
        "    plt.axis(\"off\")\n",
        "    t = \"[Ori]:{}\\n[Pre]:{}\".format(trans[false_answer[i]],\n",
        "                                    trans[false_predict[i]])\n",
        "    plt.title(t)\n",
        "    plt.imshow(img)"
      ],
      "execution_count": 44,
      "outputs": [
        {
          "output_type": "display_data",
          "data": {
            "text/plain": [
              "<Figure size 1440x720 with 0 Axes>"
            ]
          },
          "metadata": {
            "tags": []
          }
        }
      ]
    },
    {
      "cell_type": "markdown",
      "metadata": {
        "id": "sjP2I9vPBWRX",
        "colab_type": "text"
      },
      "source": [
        "#### 遷移學習 :\n",
        "  + 需要把 BatchNormalization 在 Flatten之前放上, 讓資料流動更加平順\n",
        "  + 如果訓練不好, 嘗試 Dropout 減少神經元\n",
        "  + 由於 MLP 訓練的物件不多, 減少 MLP 層數叫好\n",
        "  + 注意原本的 CNN 有沒有訓練過相似的東西, imagenet 沒有人物, model zoo 裡面可搜尋\n",
        "\n",
        "\n",
        "#### 許多張大圖片時的處理方式 summary :\n",
        "  + zip: 先解壓縮\n",
        "  + 把貓狗圖片的路徑放入 DataFrame\n",
        "  + load_img: kears 內建的圖案讀取套件\n",
        "  + train_on_batch: 批次訓練 返回 [\"loss\", \"accuracy\"]\n",
        "  + test_on_batch: 批次測試 返回 [\"val_loss\", \"val_accuracy\"]"
      ]
    }
  ]
}